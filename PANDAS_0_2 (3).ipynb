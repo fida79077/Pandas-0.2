{
  "nbformat": 4,
  "nbformat_minor": 0,
  "metadata": {
    "colab": {
      "provenance": []
    },
    "kernelspec": {
      "name": "python3",
      "display_name": "Python 3"
    },
    "language_info": {
      "name": "python"
    }
  },
  "cells": [
    {
      "cell_type": "code",
      "execution_count": null,
      "metadata": {
        "colab": {
          "base_uri": "https://localhost:8080/"
        },
        "id": "6nJRTMTPeXoj",
        "outputId": "087a3d90-7504-4254-df34-e5097d568052"
      },
      "outputs": [
        {
          "output_type": "stream",
          "name": "stdout",
          "text": [
            "   0  1  2  3\n",
            "0  3  5  8  2\n",
            "1  3  5  8  1\n"
          ]
        }
      ],
      "source": [
        "#data frame\n",
        "\n",
        "import pandas as pd\n",
        "import numpy as np\n",
        "\n",
        "data = [[3,5,8,2],[3,5,8,1]]\n",
        "\n",
        "s = pd.DataFrame(data)\n",
        "\n",
        "print(s)"
      ]
    },
    {
      "cell_type": "code",
      "execution_count": null,
      "metadata": {
        "colab": {
          "base_uri": "https://localhost:8080/"
        },
        "id": "uphpyDQEgIby",
        "outputId": "61de13c2-0599-42be-8460-02a7124b3d06"
      },
      "outputs": [
        {
          "output_type": "stream",
          "name": "stdout",
          "text": [
            "       0   1   2   3\n",
            "0  arifa  60  50  30\n",
            "1   fida  40  50  20\n"
          ]
        }
      ],
      "source": [
        "\n",
        "\n",
        "import pandas as pd\n",
        "import numpy as np\n",
        "\n",
        "data = [['arifa',60,50,30],['fida',40,50,20]]\n",
        "\n",
        "s = pd.DataFrame(data)\n",
        "\n",
        "print(s)"
      ]
    },
    {
      "cell_type": "code",
      "source": [
        "import pandas as pd\n",
        "import numpy as np\n",
        "\n",
        "data1 = {'name':['fida','arifa','nida'],'chem':[20,40,60],'maths':[60,40,40],'phy':[45,56,36]}\n",
        "\n",
        "df = pd.DataFrame(data1)\n",
        "\n",
        "df['bio'] = [60,40,57]\n",
        "\n",
        "df['total mark']= df['chem']+df['maths']+df['bio']\n",
        "\n",
        "print(df)"
      ],
      "metadata": {
        "colab": {
          "base_uri": "https://localhost:8080/"
        },
        "id": "SwbFQFLWgYrm",
        "outputId": "073a8113-8014-4956-9677-f3984016089a"
      },
      "execution_count": null,
      "outputs": [
        {
          "output_type": "stream",
          "name": "stdout",
          "text": [
            "    name  chem  maths  phy  bio  total mark\n",
            "0   fida    20     60   45   60         140\n",
            "1  arifa    40     40   56   40         120\n",
            "2   nida    60     40   36   57         157\n"
          ]
        }
      ]
    },
    {
      "cell_type": "code",
      "source": [
        "import pandas as pd\n",
        "import numpy as np\n",
        "\n",
        "data1 = {'name':['fida','arifa','nida'],'chem':[20,40,680],'maths':[60,40,60],'phy':[45,56,68]}\n",
        "\n",
        "df = pd.DataFrame(data1)\n",
        "\n",
        "df['bio'] = [60,40,80]\n",
        "\n",
        "df['total mark']= df['chem']+df['maths']+df['bio']\n",
        "\n",
        "print(df)\n",
        "\n",
        "\n",
        "#\n",
        "\n",
        "list1 = []\n",
        "\n",
        "for i in df['total mark']:\n",
        "    if i <= 100:\n",
        "      list1.append('blw avrg')\n",
        "    elif i <= 200:\n",
        "      list1.append('abw avrg')\n",
        "    else:\n",
        "      list1.append('exlnt')\n",
        "\n",
        "df['status'] = list1\n",
        "\n",
        "print(df)"
      ],
      "metadata": {
        "colab": {
          "base_uri": "https://localhost:8080/"
        },
        "id": "BS1xfc0pjjTm",
        "outputId": "9678e737-d76f-4eef-e1e9-aeb2141b8d63"
      },
      "execution_count": null,
      "outputs": [
        {
          "output_type": "stream",
          "name": "stdout",
          "text": [
            "    name  chem  maths  phy  bio  total mark\n",
            "0   fida    20     60   45   60         140\n",
            "1  arifa    40     40   56   40         120\n",
            "2   nida   680     60   68   80         820\n",
            "    name  chem  maths  phy  bio  total mark    status\n",
            "0   fida    20     60   45   60         140  abw avrg\n",
            "1  arifa    40     40   56   40         120  abw avrg\n",
            "2   nida   680     60   68   80         820     exlnt\n"
          ]
        }
      ]
    },
    {
      "cell_type": "markdown",
      "source": [
        "**DELETING**"
      ],
      "metadata": {
        "id": "1NSp1mTpsNKf"
      }
    },
    {
      "cell_type": "code",
      "source": [],
      "metadata": {
        "id": "_S4xEe8HloQ6"
      },
      "execution_count": null,
      "outputs": []
    },
    {
      "cell_type": "code",
      "source": [
        "import pandas as pd\n",
        "import numpy as np\n",
        "\n",
        "data1 = {'name':['fida','arifa','nida'],'chem':[20,40,680],'maths':[60,40,60],'phy':[45,56,68]}\n",
        "\n",
        "df = pd.DataFrame(data1)\n",
        "\n",
        "df['bio'] = [60,40,80]\n",
        "\n",
        "df['total mark']= df['chem']+df['maths']+df['bio']\n",
        "\n",
        "print(df)\n",
        "\n",
        "\n",
        "#\n",
        "\n",
        "list1 = []\n",
        "\n",
        "for i in df['total mark']:\n",
        "    if i <= 100:\n",
        "      list1.append('blw avrg')\n",
        "    elif i <= 200:\n",
        "      list1.append('abw avrg')\n",
        "    else:\n",
        "      list1.append('exlnt')\n",
        "\n",
        "df['status'] = list1\n",
        "\n",
        "del df['chem']\n",
        "\n",
        "#print(df[['name','status','chem]])\n",
        "\n",
        "print(df)"
      ],
      "metadata": {
        "colab": {
          "base_uri": "https://localhost:8080/"
        },
        "outputId": "cf10a5d0-9f7d-4eda-9893-7ca5abe431b1",
        "id": "2cvBFa9zscIe"
      },
      "execution_count": null,
      "outputs": [
        {
          "output_type": "stream",
          "name": "stdout",
          "text": [
            "    name  chem  maths  phy  bio  total mark\n",
            "0   fida    20     60   45   60         140\n",
            "1  arifa    40     40   56   40         120\n",
            "2   nida   680     60   68   80         820\n",
            "    name  maths  phy  bio  total mark    status\n",
            "0   fida     60   45   60         140  abw avrg\n",
            "1  arifa     40   56   40         120  abw avrg\n",
            "2   nida     60   68   80         820     exlnt\n"
          ]
        }
      ]
    },
    {
      "cell_type": "markdown",
      "source": [
        "**DROP METHOD**"
      ],
      "metadata": {
        "id": "agUlAchUsyhY"
      }
    },
    {
      "cell_type": "code",
      "source": [],
      "metadata": {
        "id": "0aVTYR0osxzX"
      },
      "execution_count": null,
      "outputs": []
    },
    {
      "cell_type": "code",
      "source": [
        "import pandas as pd\n",
        "import numpy as np\n",
        "\n",
        "data1 = {'name':['fida','arifa','nida'],'chem':[20,40,680],'maths':[60,40,60],'phy':[45,56,68]}\n",
        "\n",
        "df = pd.DataFrame(data1)\n",
        "\n",
        "df['bio'] = [60,40,80]\n",
        "\n",
        "df['total mark']= df['chem']+df['maths']+df['bio']\n",
        "\n",
        "\n",
        "\n",
        "\n",
        "#\n",
        "\n",
        "list1 = []\n",
        "\n",
        "for i in df['total mark']:\n",
        "    if i <= 100:\n",
        "      list1.append('blw avrg')\n",
        "    elif i <= 200:\n",
        "      list1.append('abw avrg')\n",
        "    else:\n",
        "      list1.append('exlnt')\n",
        "\n",
        "df['status'] = list1\n",
        "\n",
        "print(df)\n",
        "\n",
        "del df['chem']\n",
        "\n",
        "df = df.drop('phy',axis=1)    #want to specify axis\n",
        "\n",
        "print(df)"
      ],
      "metadata": {
        "colab": {
          "base_uri": "https://localhost:8080/"
        },
        "outputId": "2e95d441-e869-47a3-d76b-ec6b63f1ee94",
        "id": "ipRhgOtSs3yL"
      },
      "execution_count": null,
      "outputs": [
        {
          "output_type": "stream",
          "name": "stdout",
          "text": [
            "    name  chem  maths  phy  bio  total mark    status\n",
            "0   fida    20     60   45   60         140  abw avrg\n",
            "1  arifa    40     40   56   40         120  abw avrg\n",
            "2   nida   680     60   68   80         820     exlnt\n",
            "    name  maths  bio  total mark    status\n",
            "0   fida     60   60         140  abw avrg\n",
            "1  arifa     40   40         120  abw avrg\n",
            "2   nida     60   80         820     exlnt\n"
          ]
        }
      ]
    },
    {
      "cell_type": "markdown",
      "source": [
        "**POP METHOD**"
      ],
      "metadata": {
        "id": "edtHuyChtsPb"
      }
    },
    {
      "cell_type": "code",
      "source": [],
      "metadata": {
        "id": "TfvTqUDWtr13"
      },
      "execution_count": null,
      "outputs": []
    },
    {
      "cell_type": "code",
      "source": [
        "import pandas as pd\n",
        "import numpy as np\n",
        "\n",
        "data1 = {'name':['fida','arifa','nida'],'chem':[20,40,680],'maths':[60,40,60],'phy':[45,56,68]}\n",
        "\n",
        "df = pd.DataFrame(data1)\n",
        "\n",
        "df['bio'] = [60,40,80]\n",
        "\n",
        "df['total mark']= df['chem']+df['maths']+df['bio']\n",
        "\n",
        "\n",
        "\n",
        "\n",
        "#\n",
        "\n",
        "list1 = []\n",
        "\n",
        "for i in df['total mark']:\n",
        "    if i <= 100:\n",
        "      list1.append('blw avrg')\n",
        "    elif i <= 200:\n",
        "      list1.append('abw avrg')\n",
        "    else:\n",
        "      list1.append('exlnt')\n",
        "\n",
        "df['status'] = list1\n",
        "\n",
        "print(df)\n",
        "\n",
        "del df['chem']\n",
        "\n",
        "df = df.drop('phy',axis=1)    #want to specify axis\n",
        "\n",
        "df.pop('maths')\n",
        "\n",
        "print(df)\n",
        "\n",
        "print(df.ndim)\n",
        "print(df.size)\n",
        "print(df.shape)\n",
        "\n",
        "print(df.columns)\n",
        "\n",
        "print(df['status'].unique())\n",
        "\n",
        "print(df['bio'].unique())\n",
        "\n",
        "print(df['status'].value_counts())\n",
        "\n",
        "print(df)"
      ],
      "metadata": {
        "colab": {
          "base_uri": "https://localhost:8080/"
        },
        "outputId": "a6ccbc44-f219-4653-bc0d-1f3ef97c1263",
        "id": "otaxIU5xtxWt"
      },
      "execution_count": null,
      "outputs": [
        {
          "output_type": "stream",
          "name": "stdout",
          "text": [
            "    name  chem  maths  phy  bio  total mark    status\n",
            "0   fida    20     60   45   60         140  abw avrg\n",
            "1  arifa    40     40   56   40         120  abw avrg\n",
            "2   nida   680     60   68   80         820     exlnt\n",
            "    name  bio  total mark    status\n",
            "0   fida   60         140  abw avrg\n",
            "1  arifa   40         120  abw avrg\n",
            "2   nida   80         820     exlnt\n",
            "2\n",
            "12\n",
            "(3, 4)\n",
            "Index(['name', 'bio', 'total mark', 'status'], dtype='object')\n",
            "['abw avrg' 'exlnt']\n",
            "[60 40 80]\n",
            "status\n",
            "abw avrg    2\n",
            "exlnt       1\n",
            "Name: count, dtype: int64\n",
            "    name  bio  total mark    status\n",
            "0   fida   60         140  abw avrg\n",
            "1  arifa   40         120  abw avrg\n",
            "2   nida   80         820     exlnt\n"
          ]
        }
      ]
    },
    {
      "cell_type": "code",
      "source": [
        "print(df)"
      ],
      "metadata": {
        "colab": {
          "base_uri": "https://localhost:8080/"
        },
        "id": "65TR9vJhuzF6",
        "outputId": "e2904b00-64e2-43a2-ce14-8956d9b8af51"
      },
      "execution_count": null,
      "outputs": [
        {
          "output_type": "stream",
          "name": "stdout",
          "text": [
            "    name  bio  total mark    status\n",
            "0   fida   60         140  abw avrg\n",
            "1  arifa   40         120  abw avrg\n",
            "2   nida   80         820     exlnt\n"
          ]
        }
      ]
    },
    {
      "cell_type": "code",
      "source": [
        "print(df.head())"
      ],
      "metadata": {
        "colab": {
          "base_uri": "https://localhost:8080/"
        },
        "id": "83ax8dVpvKsu",
        "outputId": "d4ad6df1-b5c9-4df2-f90a-e59e0c209499"
      },
      "execution_count": null,
      "outputs": [
        {
          "output_type": "stream",
          "name": "stdout",
          "text": [
            "    name  bio  total mark    status\n",
            "0   fida   60         140  abw avrg\n",
            "1  arifa   40         120  abw avrg\n",
            "2   nida   80         820     exlnt\n"
          ]
        }
      ]
    },
    {
      "cell_type": "code",
      "source": [
        "print(df.head(2))"
      ],
      "metadata": {
        "colab": {
          "base_uri": "https://localhost:8080/"
        },
        "id": "SVHKhM5RvT3A",
        "outputId": "bcf3ea5a-199d-4a71-c6e9-f1726d5dcec1"
      },
      "execution_count": null,
      "outputs": [
        {
          "output_type": "stream",
          "name": "stdout",
          "text": [
            "    name  bio  total mark    status\n",
            "0   fida   60         140  abw avrg\n",
            "1  arifa   40         120  abw avrg\n"
          ]
        }
      ]
    },
    {
      "cell_type": "code",
      "source": [
        "print(df.tail(2))"
      ],
      "metadata": {
        "colab": {
          "base_uri": "https://localhost:8080/"
        },
        "id": "uOiugoAWvYNL",
        "outputId": "1e928244-024d-4bf1-a9d7-8d4f34134252"
      },
      "execution_count": null,
      "outputs": [
        {
          "output_type": "stream",
          "name": "stdout",
          "text": [
            "    name  bio  total mark    status\n",
            "1  arifa   40         120  abw avrg\n",
            "2   nida   80         820     exlnt\n"
          ]
        }
      ]
    },
    {
      "cell_type": "code",
      "source": [
        "print(df.describe())"
      ],
      "metadata": {
        "colab": {
          "base_uri": "https://localhost:8080/"
        },
        "id": "T-4Nv_DSvdGO",
        "outputId": "195102ea-e538-4161-b45d-6c1f639b1c24"
      },
      "execution_count": null,
      "outputs": [
        {
          "output_type": "stream",
          "name": "stdout",
          "text": [
            "        bio  total mark\n",
            "count   3.0    3.000000\n",
            "mean   60.0  360.000000\n",
            "std    20.0  398.497177\n",
            "min    40.0  120.000000\n",
            "25%    50.0  130.000000\n",
            "50%    60.0  140.000000\n",
            "75%    70.0  480.000000\n",
            "max    80.0  820.000000\n"
          ]
        }
      ]
    },
    {
      "cell_type": "code",
      "source": [
        "print(df.info())"
      ],
      "metadata": {
        "colab": {
          "base_uri": "https://localhost:8080/"
        },
        "id": "4n8s2pt-vi0c",
        "outputId": "983950b2-8199-4af6-8c95-6e98421c4236"
      },
      "execution_count": null,
      "outputs": [
        {
          "output_type": "stream",
          "name": "stdout",
          "text": [
            "<class 'pandas.core.frame.DataFrame'>\n",
            "RangeIndex: 3 entries, 0 to 2\n",
            "Data columns (total 4 columns):\n",
            " #   Column      Non-Null Count  Dtype \n",
            "---  ------      --------------  ----- \n",
            " 0   name        3 non-null      object\n",
            " 1   bio         3 non-null      int64 \n",
            " 2   total mark  3 non-null      int64 \n",
            " 3   status      3 non-null      object\n",
            "dtypes: int64(2), object(2)\n",
            "memory usage: 224.0+ bytes\n",
            "None\n"
          ]
        }
      ]
    },
    {
      "cell_type": "code",
      "source": [
        "print(df.sum())"
      ],
      "metadata": {
        "colab": {
          "base_uri": "https://localhost:8080/"
        },
        "id": "tIsjkdmVvmpy",
        "outputId": "05b8ab61-94a6-4453-d0e7-83d35408d331"
      },
      "execution_count": null,
      "outputs": [
        {
          "output_type": "stream",
          "name": "stdout",
          "text": [
            "name                  fidaarifanida\n",
            "bio                             180\n",
            "total mark                     1080\n",
            "status        abw avrgabw avrgexlnt\n",
            "dtype: object\n"
          ]
        }
      ]
    },
    {
      "cell_type": "code",
      "source": [
        "print(df['bio'].sum())"
      ],
      "metadata": {
        "colab": {
          "base_uri": "https://localhost:8080/"
        },
        "id": "pCr-eWPnv1RU",
        "outputId": "c9caceea-ddcc-4463-fe06-646e33a26744"
      },
      "execution_count": null,
      "outputs": [
        {
          "output_type": "stream",
          "name": "stdout",
          "text": [
            "180\n"
          ]
        }
      ]
    },
    {
      "cell_type": "code",
      "source": [
        "print(df.sum(1))  #row wise"
      ],
      "metadata": {
        "colab": {
          "base_uri": "https://localhost:8080/",
          "height": 304
        },
        "id": "a7vy1WE0v_nc",
        "outputId": "bf8ceccd-98b5-42dd-e2f9-fb29aeafef2b"
      },
      "execution_count": null,
      "outputs": [
        {
          "output_type": "error",
          "ename": "TypeError",
          "evalue": "can only concatenate str (not \"int\") to str",
          "traceback": [
            "\u001b[0;31m---------------------------------------------------------------------------\u001b[0m",
            "\u001b[0;31mTypeError\u001b[0m                                 Traceback (most recent call last)",
            "\u001b[0;32m<ipython-input-35-55570a03d34a>\u001b[0m in \u001b[0;36m<cell line: 1>\u001b[0;34m()\u001b[0m\n\u001b[0;32m----> 1\u001b[0;31m \u001b[0mprint\u001b[0m\u001b[0;34m(\u001b[0m\u001b[0mdf\u001b[0m\u001b[0;34m.\u001b[0m\u001b[0msum\u001b[0m\u001b[0;34m(\u001b[0m\u001b[0;36m1\u001b[0m\u001b[0;34m)\u001b[0m\u001b[0;34m)\u001b[0m  \u001b[0;31m#row wise\u001b[0m\u001b[0;34m\u001b[0m\u001b[0;34m\u001b[0m\u001b[0m\n\u001b[0m",
            "\u001b[0;32m/usr/local/lib/python3.10/dist-packages/pandas/core/frame.py\u001b[0m in \u001b[0;36msum\u001b[0;34m(self, axis, skipna, numeric_only, min_count, **kwargs)\u001b[0m\n\u001b[1;32m  11310\u001b[0m         \u001b[0;34m**\u001b[0m\u001b[0mkwargs\u001b[0m\u001b[0;34m,\u001b[0m\u001b[0;34m\u001b[0m\u001b[0;34m\u001b[0m\u001b[0m\n\u001b[1;32m  11311\u001b[0m     ):\n\u001b[0;32m> 11312\u001b[0;31m         \u001b[0mresult\u001b[0m \u001b[0;34m=\u001b[0m \u001b[0msuper\u001b[0m\u001b[0;34m(\u001b[0m\u001b[0;34m)\u001b[0m\u001b[0;34m.\u001b[0m\u001b[0msum\u001b[0m\u001b[0;34m(\u001b[0m\u001b[0maxis\u001b[0m\u001b[0;34m,\u001b[0m \u001b[0mskipna\u001b[0m\u001b[0;34m,\u001b[0m \u001b[0mnumeric_only\u001b[0m\u001b[0;34m,\u001b[0m \u001b[0mmin_count\u001b[0m\u001b[0;34m,\u001b[0m \u001b[0;34m**\u001b[0m\u001b[0mkwargs\u001b[0m\u001b[0;34m)\u001b[0m\u001b[0;34m\u001b[0m\u001b[0;34m\u001b[0m\u001b[0m\n\u001b[0m\u001b[1;32m  11313\u001b[0m         \u001b[0;32mreturn\u001b[0m \u001b[0mresult\u001b[0m\u001b[0;34m.\u001b[0m\u001b[0m__finalize__\u001b[0m\u001b[0;34m(\u001b[0m\u001b[0mself\u001b[0m\u001b[0;34m,\u001b[0m \u001b[0mmethod\u001b[0m\u001b[0;34m=\u001b[0m\u001b[0;34m\"sum\"\u001b[0m\u001b[0;34m)\u001b[0m\u001b[0;34m\u001b[0m\u001b[0;34m\u001b[0m\u001b[0m\n\u001b[1;32m  11314\u001b[0m \u001b[0;34m\u001b[0m\u001b[0m\n",
            "\u001b[0;32m/usr/local/lib/python3.10/dist-packages/pandas/core/generic.py\u001b[0m in \u001b[0;36msum\u001b[0;34m(self, axis, skipna, numeric_only, min_count, **kwargs)\u001b[0m\n\u001b[1;32m  12076\u001b[0m         \u001b[0;34m**\u001b[0m\u001b[0mkwargs\u001b[0m\u001b[0;34m,\u001b[0m\u001b[0;34m\u001b[0m\u001b[0;34m\u001b[0m\u001b[0m\n\u001b[1;32m  12077\u001b[0m     ):\n\u001b[0;32m> 12078\u001b[0;31m         return self._min_count_stat_function(\n\u001b[0m\u001b[1;32m  12079\u001b[0m             \u001b[0;34m\"sum\"\u001b[0m\u001b[0;34m,\u001b[0m \u001b[0mnanops\u001b[0m\u001b[0;34m.\u001b[0m\u001b[0mnansum\u001b[0m\u001b[0;34m,\u001b[0m \u001b[0maxis\u001b[0m\u001b[0;34m,\u001b[0m \u001b[0mskipna\u001b[0m\u001b[0;34m,\u001b[0m \u001b[0mnumeric_only\u001b[0m\u001b[0;34m,\u001b[0m \u001b[0mmin_count\u001b[0m\u001b[0;34m,\u001b[0m \u001b[0;34m**\u001b[0m\u001b[0mkwargs\u001b[0m\u001b[0;34m\u001b[0m\u001b[0;34m\u001b[0m\u001b[0m\n\u001b[1;32m  12080\u001b[0m         )\n",
            "\u001b[0;32m/usr/local/lib/python3.10/dist-packages/pandas/core/generic.py\u001b[0m in \u001b[0;36m_min_count_stat_function\u001b[0;34m(self, name, func, axis, skipna, numeric_only, min_count, **kwargs)\u001b[0m\n\u001b[1;32m  12059\u001b[0m             \u001b[0maxis\u001b[0m \u001b[0;34m=\u001b[0m \u001b[0;36m0\u001b[0m\u001b[0;34m\u001b[0m\u001b[0;34m\u001b[0m\u001b[0m\n\u001b[1;32m  12060\u001b[0m \u001b[0;34m\u001b[0m\u001b[0m\n\u001b[0;32m> 12061\u001b[0;31m         return self._reduce(\n\u001b[0m\u001b[1;32m  12062\u001b[0m             \u001b[0mfunc\u001b[0m\u001b[0;34m,\u001b[0m\u001b[0;34m\u001b[0m\u001b[0;34m\u001b[0m\u001b[0m\n\u001b[1;32m  12063\u001b[0m             \u001b[0mname\u001b[0m\u001b[0;34m=\u001b[0m\u001b[0mname\u001b[0m\u001b[0;34m,\u001b[0m\u001b[0;34m\u001b[0m\u001b[0;34m\u001b[0m\u001b[0m\n",
            "\u001b[0;32m/usr/local/lib/python3.10/dist-packages/pandas/core/frame.py\u001b[0m in \u001b[0;36m_reduce\u001b[0;34m(self, op, name, axis, skipna, numeric_only, filter_type, **kwds)\u001b[0m\n\u001b[1;32m  11202\u001b[0m         \u001b[0;31m# After possibly _get_data and transposing, we are now in the\u001b[0m\u001b[0;34m\u001b[0m\u001b[0;34m\u001b[0m\u001b[0m\n\u001b[1;32m  11203\u001b[0m         \u001b[0;31m#  simple case where we can use BlockManager.reduce\u001b[0m\u001b[0;34m\u001b[0m\u001b[0;34m\u001b[0m\u001b[0m\n\u001b[0;32m> 11204\u001b[0;31m         \u001b[0mres\u001b[0m \u001b[0;34m=\u001b[0m \u001b[0mdf\u001b[0m\u001b[0;34m.\u001b[0m\u001b[0m_mgr\u001b[0m\u001b[0;34m.\u001b[0m\u001b[0mreduce\u001b[0m\u001b[0;34m(\u001b[0m\u001b[0mblk_func\u001b[0m\u001b[0;34m)\u001b[0m\u001b[0;34m\u001b[0m\u001b[0;34m\u001b[0m\u001b[0m\n\u001b[0m\u001b[1;32m  11205\u001b[0m         \u001b[0mout\u001b[0m \u001b[0;34m=\u001b[0m \u001b[0mdf\u001b[0m\u001b[0;34m.\u001b[0m\u001b[0m_constructor_from_mgr\u001b[0m\u001b[0;34m(\u001b[0m\u001b[0mres\u001b[0m\u001b[0;34m,\u001b[0m \u001b[0maxes\u001b[0m\u001b[0;34m=\u001b[0m\u001b[0mres\u001b[0m\u001b[0;34m.\u001b[0m\u001b[0maxes\u001b[0m\u001b[0;34m)\u001b[0m\u001b[0;34m.\u001b[0m\u001b[0miloc\u001b[0m\u001b[0;34m[\u001b[0m\u001b[0;36m0\u001b[0m\u001b[0;34m]\u001b[0m\u001b[0;34m\u001b[0m\u001b[0;34m\u001b[0m\u001b[0m\n\u001b[1;32m  11206\u001b[0m         \u001b[0;32mif\u001b[0m \u001b[0mout_dtype\u001b[0m \u001b[0;32mis\u001b[0m \u001b[0;32mnot\u001b[0m \u001b[0;32mNone\u001b[0m \u001b[0;32mand\u001b[0m \u001b[0mout\u001b[0m\u001b[0;34m.\u001b[0m\u001b[0mdtype\u001b[0m \u001b[0;34m!=\u001b[0m \u001b[0;34m\"boolean\"\u001b[0m\u001b[0;34m:\u001b[0m\u001b[0;34m\u001b[0m\u001b[0;34m\u001b[0m\u001b[0m\n",
            "\u001b[0;32m/usr/local/lib/python3.10/dist-packages/pandas/core/internals/managers.py\u001b[0m in \u001b[0;36mreduce\u001b[0;34m(self, func)\u001b[0m\n\u001b[1;32m   1457\u001b[0m         \u001b[0mres_blocks\u001b[0m\u001b[0;34m:\u001b[0m \u001b[0mlist\u001b[0m\u001b[0;34m[\u001b[0m\u001b[0mBlock\u001b[0m\u001b[0;34m]\u001b[0m \u001b[0;34m=\u001b[0m \u001b[0;34m[\u001b[0m\u001b[0;34m]\u001b[0m\u001b[0;34m\u001b[0m\u001b[0;34m\u001b[0m\u001b[0m\n\u001b[1;32m   1458\u001b[0m         \u001b[0;32mfor\u001b[0m \u001b[0mblk\u001b[0m \u001b[0;32min\u001b[0m \u001b[0mself\u001b[0m\u001b[0;34m.\u001b[0m\u001b[0mblocks\u001b[0m\u001b[0;34m:\u001b[0m\u001b[0;34m\u001b[0m\u001b[0;34m\u001b[0m\u001b[0m\n\u001b[0;32m-> 1459\u001b[0;31m             \u001b[0mnbs\u001b[0m \u001b[0;34m=\u001b[0m \u001b[0mblk\u001b[0m\u001b[0;34m.\u001b[0m\u001b[0mreduce\u001b[0m\u001b[0;34m(\u001b[0m\u001b[0mfunc\u001b[0m\u001b[0;34m)\u001b[0m\u001b[0;34m\u001b[0m\u001b[0;34m\u001b[0m\u001b[0m\n\u001b[0m\u001b[1;32m   1460\u001b[0m             \u001b[0mres_blocks\u001b[0m\u001b[0;34m.\u001b[0m\u001b[0mextend\u001b[0m\u001b[0;34m(\u001b[0m\u001b[0mnbs\u001b[0m\u001b[0;34m)\u001b[0m\u001b[0;34m\u001b[0m\u001b[0;34m\u001b[0m\u001b[0m\n\u001b[1;32m   1461\u001b[0m \u001b[0;34m\u001b[0m\u001b[0m\n",
            "\u001b[0;32m/usr/local/lib/python3.10/dist-packages/pandas/core/internals/blocks.py\u001b[0m in \u001b[0;36mreduce\u001b[0;34m(self, func)\u001b[0m\n\u001b[1;32m    375\u001b[0m         \u001b[0;32massert\u001b[0m \u001b[0mself\u001b[0m\u001b[0;34m.\u001b[0m\u001b[0mndim\u001b[0m \u001b[0;34m==\u001b[0m \u001b[0;36m2\u001b[0m\u001b[0;34m\u001b[0m\u001b[0;34m\u001b[0m\u001b[0m\n\u001b[1;32m    376\u001b[0m \u001b[0;34m\u001b[0m\u001b[0m\n\u001b[0;32m--> 377\u001b[0;31m         \u001b[0mresult\u001b[0m \u001b[0;34m=\u001b[0m \u001b[0mfunc\u001b[0m\u001b[0;34m(\u001b[0m\u001b[0mself\u001b[0m\u001b[0;34m.\u001b[0m\u001b[0mvalues\u001b[0m\u001b[0;34m)\u001b[0m\u001b[0;34m\u001b[0m\u001b[0;34m\u001b[0m\u001b[0m\n\u001b[0m\u001b[1;32m    378\u001b[0m \u001b[0;34m\u001b[0m\u001b[0m\n\u001b[1;32m    379\u001b[0m         \u001b[0;32mif\u001b[0m \u001b[0mself\u001b[0m\u001b[0;34m.\u001b[0m\u001b[0mvalues\u001b[0m\u001b[0;34m.\u001b[0m\u001b[0mndim\u001b[0m \u001b[0;34m==\u001b[0m \u001b[0;36m1\u001b[0m\u001b[0;34m:\u001b[0m\u001b[0;34m\u001b[0m\u001b[0;34m\u001b[0m\u001b[0m\n",
            "\u001b[0;32m/usr/local/lib/python3.10/dist-packages/pandas/core/frame.py\u001b[0m in \u001b[0;36mblk_func\u001b[0;34m(values, axis)\u001b[0m\n\u001b[1;32m  11134\u001b[0m                     \u001b[0;32mreturn\u001b[0m \u001b[0mnp\u001b[0m\u001b[0;34m.\u001b[0m\u001b[0marray\u001b[0m\u001b[0;34m(\u001b[0m\u001b[0;34m[\u001b[0m\u001b[0mresult\u001b[0m\u001b[0;34m]\u001b[0m\u001b[0;34m)\u001b[0m\u001b[0;34m\u001b[0m\u001b[0;34m\u001b[0m\u001b[0m\n\u001b[1;32m  11135\u001b[0m             \u001b[0;32melse\u001b[0m\u001b[0;34m:\u001b[0m\u001b[0;34m\u001b[0m\u001b[0;34m\u001b[0m\u001b[0m\n\u001b[0;32m> 11136\u001b[0;31m                 \u001b[0;32mreturn\u001b[0m \u001b[0mop\u001b[0m\u001b[0;34m(\u001b[0m\u001b[0mvalues\u001b[0m\u001b[0;34m,\u001b[0m \u001b[0maxis\u001b[0m\u001b[0;34m=\u001b[0m\u001b[0maxis\u001b[0m\u001b[0;34m,\u001b[0m \u001b[0mskipna\u001b[0m\u001b[0;34m=\u001b[0m\u001b[0mskipna\u001b[0m\u001b[0;34m,\u001b[0m \u001b[0;34m**\u001b[0m\u001b[0mkwds\u001b[0m\u001b[0;34m)\u001b[0m\u001b[0;34m\u001b[0m\u001b[0;34m\u001b[0m\u001b[0m\n\u001b[0m\u001b[1;32m  11137\u001b[0m \u001b[0;34m\u001b[0m\u001b[0m\n\u001b[1;32m  11138\u001b[0m         \u001b[0;32mdef\u001b[0m \u001b[0m_get_data\u001b[0m\u001b[0;34m(\u001b[0m\u001b[0;34m)\u001b[0m \u001b[0;34m->\u001b[0m \u001b[0mDataFrame\u001b[0m\u001b[0;34m:\u001b[0m\u001b[0;34m\u001b[0m\u001b[0;34m\u001b[0m\u001b[0m\n",
            "\u001b[0;32m/usr/local/lib/python3.10/dist-packages/pandas/core/nanops.py\u001b[0m in \u001b[0;36m_f\u001b[0;34m(*args, **kwargs)\u001b[0m\n\u001b[1;32m     83\u001b[0m                 )\n\u001b[1;32m     84\u001b[0m             \u001b[0;32mtry\u001b[0m\u001b[0;34m:\u001b[0m\u001b[0;34m\u001b[0m\u001b[0;34m\u001b[0m\u001b[0m\n\u001b[0;32m---> 85\u001b[0;31m                 \u001b[0;32mreturn\u001b[0m \u001b[0mf\u001b[0m\u001b[0;34m(\u001b[0m\u001b[0;34m*\u001b[0m\u001b[0margs\u001b[0m\u001b[0;34m,\u001b[0m \u001b[0;34m**\u001b[0m\u001b[0mkwargs\u001b[0m\u001b[0;34m)\u001b[0m\u001b[0;34m\u001b[0m\u001b[0;34m\u001b[0m\u001b[0m\n\u001b[0m\u001b[1;32m     86\u001b[0m             \u001b[0;32mexcept\u001b[0m \u001b[0mValueError\u001b[0m \u001b[0;32mas\u001b[0m \u001b[0me\u001b[0m\u001b[0;34m:\u001b[0m\u001b[0;34m\u001b[0m\u001b[0;34m\u001b[0m\u001b[0m\n\u001b[1;32m     87\u001b[0m                 \u001b[0;31m# we want to transform an object array\u001b[0m\u001b[0;34m\u001b[0m\u001b[0;34m\u001b[0m\u001b[0m\n",
            "\u001b[0;32m/usr/local/lib/python3.10/dist-packages/pandas/core/nanops.py\u001b[0m in \u001b[0;36mnew_func\u001b[0;34m(values, axis, skipna, mask, **kwargs)\u001b[0m\n\u001b[1;32m    402\u001b[0m             \u001b[0mmask\u001b[0m \u001b[0;34m=\u001b[0m \u001b[0misna\u001b[0m\u001b[0;34m(\u001b[0m\u001b[0mvalues\u001b[0m\u001b[0;34m)\u001b[0m\u001b[0;34m\u001b[0m\u001b[0;34m\u001b[0m\u001b[0m\n\u001b[1;32m    403\u001b[0m \u001b[0;34m\u001b[0m\u001b[0m\n\u001b[0;32m--> 404\u001b[0;31m         \u001b[0mresult\u001b[0m \u001b[0;34m=\u001b[0m \u001b[0mfunc\u001b[0m\u001b[0;34m(\u001b[0m\u001b[0mvalues\u001b[0m\u001b[0;34m,\u001b[0m \u001b[0maxis\u001b[0m\u001b[0;34m=\u001b[0m\u001b[0maxis\u001b[0m\u001b[0;34m,\u001b[0m \u001b[0mskipna\u001b[0m\u001b[0;34m=\u001b[0m\u001b[0mskipna\u001b[0m\u001b[0;34m,\u001b[0m \u001b[0mmask\u001b[0m\u001b[0;34m=\u001b[0m\u001b[0mmask\u001b[0m\u001b[0;34m,\u001b[0m \u001b[0;34m**\u001b[0m\u001b[0mkwargs\u001b[0m\u001b[0;34m)\u001b[0m\u001b[0;34m\u001b[0m\u001b[0;34m\u001b[0m\u001b[0m\n\u001b[0m\u001b[1;32m    405\u001b[0m \u001b[0;34m\u001b[0m\u001b[0m\n\u001b[1;32m    406\u001b[0m         \u001b[0;32mif\u001b[0m \u001b[0mdatetimelike\u001b[0m\u001b[0;34m:\u001b[0m\u001b[0;34m\u001b[0m\u001b[0;34m\u001b[0m\u001b[0m\n",
            "\u001b[0;32m/usr/local/lib/python3.10/dist-packages/pandas/core/nanops.py\u001b[0m in \u001b[0;36mnewfunc\u001b[0;34m(values, axis, **kwargs)\u001b[0m\n\u001b[1;32m    475\u001b[0m             \u001b[0;32mreturn\u001b[0m \u001b[0mnp\u001b[0m\u001b[0;34m.\u001b[0m\u001b[0marray\u001b[0m\u001b[0;34m(\u001b[0m\u001b[0mresults\u001b[0m\u001b[0;34m)\u001b[0m\u001b[0;34m\u001b[0m\u001b[0;34m\u001b[0m\u001b[0m\n\u001b[1;32m    476\u001b[0m \u001b[0;34m\u001b[0m\u001b[0m\n\u001b[0;32m--> 477\u001b[0;31m         \u001b[0;32mreturn\u001b[0m \u001b[0mfunc\u001b[0m\u001b[0;34m(\u001b[0m\u001b[0mvalues\u001b[0m\u001b[0;34m,\u001b[0m \u001b[0maxis\u001b[0m\u001b[0;34m=\u001b[0m\u001b[0maxis\u001b[0m\u001b[0;34m,\u001b[0m \u001b[0;34m**\u001b[0m\u001b[0mkwargs\u001b[0m\u001b[0;34m)\u001b[0m\u001b[0;34m\u001b[0m\u001b[0;34m\u001b[0m\u001b[0m\n\u001b[0m\u001b[1;32m    478\u001b[0m \u001b[0;34m\u001b[0m\u001b[0m\n\u001b[1;32m    479\u001b[0m     \u001b[0;32mreturn\u001b[0m \u001b[0mcast\u001b[0m\u001b[0;34m(\u001b[0m\u001b[0mF\u001b[0m\u001b[0;34m,\u001b[0m \u001b[0mnewfunc\u001b[0m\u001b[0;34m)\u001b[0m\u001b[0;34m\u001b[0m\u001b[0;34m\u001b[0m\u001b[0m\n",
            "\u001b[0;32m/usr/local/lib/python3.10/dist-packages/pandas/core/nanops.py\u001b[0m in \u001b[0;36mnansum\u001b[0;34m(values, axis, skipna, min_count, mask)\u001b[0m\n\u001b[1;32m    644\u001b[0m         \u001b[0mdtype_sum\u001b[0m \u001b[0;34m=\u001b[0m \u001b[0mnp\u001b[0m\u001b[0;34m.\u001b[0m\u001b[0mdtype\u001b[0m\u001b[0;34m(\u001b[0m\u001b[0mnp\u001b[0m\u001b[0;34m.\u001b[0m\u001b[0mfloat64\u001b[0m\u001b[0;34m)\u001b[0m\u001b[0;34m\u001b[0m\u001b[0;34m\u001b[0m\u001b[0m\n\u001b[1;32m    645\u001b[0m \u001b[0;34m\u001b[0m\u001b[0m\n\u001b[0;32m--> 646\u001b[0;31m     \u001b[0mthe_sum\u001b[0m \u001b[0;34m=\u001b[0m \u001b[0mvalues\u001b[0m\u001b[0;34m.\u001b[0m\u001b[0msum\u001b[0m\u001b[0;34m(\u001b[0m\u001b[0maxis\u001b[0m\u001b[0;34m,\u001b[0m \u001b[0mdtype\u001b[0m\u001b[0;34m=\u001b[0m\u001b[0mdtype_sum\u001b[0m\u001b[0;34m)\u001b[0m\u001b[0;34m\u001b[0m\u001b[0;34m\u001b[0m\u001b[0m\n\u001b[0m\u001b[1;32m    647\u001b[0m     \u001b[0mthe_sum\u001b[0m \u001b[0;34m=\u001b[0m \u001b[0m_maybe_null_out\u001b[0m\u001b[0;34m(\u001b[0m\u001b[0mthe_sum\u001b[0m\u001b[0;34m,\u001b[0m \u001b[0maxis\u001b[0m\u001b[0;34m,\u001b[0m \u001b[0mmask\u001b[0m\u001b[0;34m,\u001b[0m \u001b[0mvalues\u001b[0m\u001b[0;34m.\u001b[0m\u001b[0mshape\u001b[0m\u001b[0;34m,\u001b[0m \u001b[0mmin_count\u001b[0m\u001b[0;34m=\u001b[0m\u001b[0mmin_count\u001b[0m\u001b[0;34m)\u001b[0m\u001b[0;34m\u001b[0m\u001b[0;34m\u001b[0m\u001b[0m\n\u001b[1;32m    648\u001b[0m \u001b[0;34m\u001b[0m\u001b[0m\n",
            "\u001b[0;32m/usr/local/lib/python3.10/dist-packages/numpy/core/_methods.py\u001b[0m in \u001b[0;36m_sum\u001b[0;34m(a, axis, dtype, out, keepdims, initial, where)\u001b[0m\n\u001b[1;32m     47\u001b[0m def _sum(a, axis=None, dtype=None, out=None, keepdims=False,\n\u001b[1;32m     48\u001b[0m          initial=_NoValue, where=True):\n\u001b[0;32m---> 49\u001b[0;31m     \u001b[0;32mreturn\u001b[0m \u001b[0mumr_sum\u001b[0m\u001b[0;34m(\u001b[0m\u001b[0ma\u001b[0m\u001b[0;34m,\u001b[0m \u001b[0maxis\u001b[0m\u001b[0;34m,\u001b[0m \u001b[0mdtype\u001b[0m\u001b[0;34m,\u001b[0m \u001b[0mout\u001b[0m\u001b[0;34m,\u001b[0m \u001b[0mkeepdims\u001b[0m\u001b[0;34m,\u001b[0m \u001b[0minitial\u001b[0m\u001b[0;34m,\u001b[0m \u001b[0mwhere\u001b[0m\u001b[0;34m)\u001b[0m\u001b[0;34m\u001b[0m\u001b[0;34m\u001b[0m\u001b[0m\n\u001b[0m\u001b[1;32m     50\u001b[0m \u001b[0;34m\u001b[0m\u001b[0m\n\u001b[1;32m     51\u001b[0m def _prod(a, axis=None, dtype=None, out=None, keepdims=False,\n",
            "\u001b[0;31mTypeError\u001b[0m: can only concatenate str (not \"int\") to str"
          ]
        }
      ]
    },
    {
      "cell_type": "code",
      "source": [
        "print(df.sum(0))"
      ],
      "metadata": {
        "colab": {
          "base_uri": "https://localhost:8080/"
        },
        "id": "OIpbzEOVwOn8",
        "outputId": "34b808f8-0c71-49f8-87a4-0f37c8da20f1"
      },
      "execution_count": null,
      "outputs": [
        {
          "output_type": "stream",
          "name": "stdout",
          "text": [
            "name                  fidaarifanida\n",
            "bio                             180\n",
            "total mark                     1080\n",
            "status        abw avrgabw avrgexlnt\n",
            "dtype: object\n"
          ]
        }
      ]
    },
    {
      "cell_type": "code",
      "source": [
        "print(df['bio'].mean())"
      ],
      "metadata": {
        "colab": {
          "base_uri": "https://localhost:8080/"
        },
        "id": "xK6aP3TRwdfs",
        "outputId": "35e68f0c-7084-45f2-f40e-961304c0be3c"
      },
      "execution_count": null,
      "outputs": [
        {
          "output_type": "stream",
          "name": "stdout",
          "text": [
            "60.0\n"
          ]
        }
      ]
    },
    {
      "cell_type": "code",
      "source": [
        "import pandas as pd\n",
        "import numpy as np\n",
        "\n",
        "\n",
        "#data = [['raju',40,60,40,40,60,12,4,6,40],['ramu',60,30,90,40,60,40],['dolu',40,50,1240,60,40]]\n",
        "\n",
        "data1 = {'Name':['raju','ramu','sarang','raju','ramu','sarang','raju','ramu','sarang'],'chem':[40,60,40,40,60,40,40,60,40],'maths':[40,60,40,40,60,40,40,60,40],'phy':[40,60,40,40,60,40,40,60,40]}\n",
        "\n",
        "df = pd.DataFrame(data1)\n",
        "\n",
        "df['bio'] = [60,48,50,60,48,50,60,48,50]\n",
        "\n",
        "df['total_mark'] = df['chem']+df['maths']+df['phy']+df['bio']\n",
        "\n",
        "\n",
        "print(df)\n",
        "\n",
        "df1 = df.iloc[0:5,0:4]\n",
        "\n",
        "print(df1)"
      ],
      "metadata": {
        "id": "ICiFG9gHwlIv",
        "colab": {
          "base_uri": "https://localhost:8080/"
        },
        "outputId": "c0740fe3-a5bd-4c34-85f4-bb64c303292e"
      },
      "execution_count": null,
      "outputs": [
        {
          "output_type": "stream",
          "name": "stdout",
          "text": [
            "     Name  chem  maths  phy  bio  total_mark\n",
            "0    raju    40     40   40   60         180\n",
            "1    ramu    60     60   60   48         228\n",
            "2  sarang    40     40   40   50         170\n",
            "3    raju    40     40   40   60         180\n",
            "4    ramu    60     60   60   48         228\n",
            "5  sarang    40     40   40   50         170\n",
            "6    raju    40     40   40   60         180\n",
            "7    ramu    60     60   60   48         228\n",
            "8  sarang    40     40   40   50         170\n",
            "     Name  chem  maths  phy\n",
            "0    raju    40     40   40\n",
            "1    ramu    60     60   60\n",
            "2  sarang    40     40   40\n",
            "3    raju    40     40   40\n",
            "4    ramu    60     60   60\n"
          ]
        }
      ]
    },
    {
      "cell_type": "code",
      "source": [
        "import pandas as pd\n",
        "import numpy as np\n",
        "\n",
        "\n",
        "#data = [['raju',40,60,40,40,60,12,4,6,40],['ramu',60,30,90,40,60,40],['dolu',40,50,1240,60,40]]\n",
        "\n",
        "data1 = {'Name':['raju','ramu','sarang','raju','ramu','sarang','raju','ramu','sarang'],'chem':[40,60,40,40,60,40,40,60,40],'maths':[40,60,40,40,60,40,40,60,40],'phy':[40,60,40,40,60,40,40,60,40]}\n",
        "\n",
        "df = pd.DataFrame(data1)\n",
        "\n",
        "df['bio'] = [60,48,50,60,48,50,60,48,50]\n",
        "\n",
        "df['total_mark'] = df['chem']+df['maths']+df['phy']+df['bio']\n",
        "\n",
        "\n",
        "#print(df)\n",
        "\n",
        "df1 = df.loc[0:4,'Name':'phy']\n",
        "\n",
        "print(df1)"
      ],
      "metadata": {
        "colab": {
          "base_uri": "https://localhost:8080/"
        },
        "id": "XqawQ3xxvW0c",
        "outputId": "8f5d2d70-fd5b-46c0-f968-399af9c79f2b"
      },
      "execution_count": null,
      "outputs": [
        {
          "output_type": "stream",
          "name": "stdout",
          "text": [
            "     Name  chem  maths  phy\n",
            "0    raju    40     40   40\n",
            "1    ramu    60     60   60\n",
            "2  sarang    40     40   40\n",
            "3    raju    40     40   40\n",
            "4    ramu    60     60   60\n"
          ]
        }
      ]
    },
    {
      "cell_type": "code",
      "source": [],
      "metadata": {
        "id": "QlboNKX3v7rz"
      },
      "execution_count": null,
      "outputs": []
    },
    {
      "cell_type": "code",
      "source": [
        "import pandas as pd\n",
        "import numpy as np\n",
        "\n",
        "\n",
        "#data = [['raju',40,60,40,40,60,12,4,6,40],['ramu',60,30,90,40,60,40],['dolu',40,50,1240,60,40]]\n",
        "\n",
        "data1 = {'Name':['raju','ramu','sarang','raju','ramu','sarang','raju','ramu','sarang'],'chem':[40,60,40,40,60,40,40,60,40],'maths':[40,60,40,40,60,40,40,60,40],'phy':[40,60,40,40,60,40,40,60,40]}\n",
        "\n",
        "df = pd.DataFrame(data1)\n",
        "\n",
        "df['bio'] = [60,48,50,60,48,50,60,48,50]\n",
        "\n",
        "df['total_mark'] = df['chem']+df['maths']+df['phy']+df['bio']\n",
        "\n",
        "\n",
        "#print(df)\n",
        "\n",
        "df1 = df.at[0,'phy']\n",
        "\n",
        "print(df1)"
      ],
      "metadata": {
        "colab": {
          "base_uri": "https://localhost:8080/"
        },
        "outputId": "d1a1695d-c290-4ae4-afba-aad1b7037fef",
        "id": "lk0sH3CCylar"
      },
      "execution_count": null,
      "outputs": [
        {
          "output_type": "stream",
          "name": "stdout",
          "text": [
            "40\n"
          ]
        }
      ]
    },
    {
      "cell_type": "code",
      "source": [
        "import pandas as pd\n",
        "import numpy as np\n",
        "\n",
        "\n",
        "#data = [['raju',40,60,40,40,60,12,4,6,40],['ramu',60,30,90,40,60,40],['dolu',40,50,1240,60,40]]\n",
        "\n",
        "data1 = {'Name':['raju','ramu','sarang','raju','ramu','sarang','raju','ramu','sarang'],'chem':[40,60,40,40,60,40,40,60,40],'maths':[40,60,40,40,60,40,40,60,40],'phy':[40,60,40,40,60,40,40,60,40]}\n",
        "\n",
        "df = pd.DataFrame(data1)\n",
        "\n",
        "df['bio'] = [60,48,50,60,48,50,60,48,50]\n",
        "\n",
        "df['total_mark'] = df['chem']+df['maths']+df['phy']+df['bio']\n",
        "\n",
        "\n",
        "#print(df)\n",
        "\n",
        "df1 = df.iat[0,3]\n",
        "\n",
        "print(df1)"
      ],
      "metadata": {
        "colab": {
          "base_uri": "https://localhost:8080/"
        },
        "outputId": "be309b8a-49f6-4566-ddb5-8e2a519251e2",
        "id": "oofQP8YJywxk"
      },
      "execution_count": null,
      "outputs": [
        {
          "output_type": "stream",
          "name": "stdout",
          "text": [
            "40\n"
          ]
        }
      ]
    },
    {
      "cell_type": "code",
      "source": [
        "import pandas as pd\n",
        "import numpy as np\n",
        "\n",
        "data = [[40,60,40,40,60,12,4,6,40],[60,30,90,40,60,40],[40,50,1240,60,40]]\n",
        "\n",
        "\n",
        "df = pd.DataFrame(data)\n",
        "\n",
        "\n",
        "def adder(a,b):\n",
        "   return a+b\n",
        "\n",
        "print(df)\n",
        "\n",
        "df1 = df.pipe(adder,2)\n",
        "\n",
        "print(df1)"
      ],
      "metadata": {
        "colab": {
          "base_uri": "https://localhost:8080/"
        },
        "outputId": "bb2547f5-54ff-4fb3-aa4f-a0a71a2b6ff0",
        "id": "TpjRs4_j0FgR"
      },
      "execution_count": null,
      "outputs": [
        {
          "output_type": "stream",
          "name": "stdout",
          "text": [
            "    0   1     2   3   4     5    6    7     8\n",
            "0  40  60    40  40  60  12.0  4.0  6.0  40.0\n",
            "1  60  30    90  40  60  40.0  NaN  NaN   NaN\n",
            "2  40  50  1240  60  40   NaN  NaN  NaN   NaN\n",
            "    0   1     2   3   4     5    6    7     8\n",
            "0  42  62    42  42  62  14.0  6.0  8.0  42.0\n",
            "1  62  32    92  42  62  42.0  NaN  NaN   NaN\n",
            "2  42  52  1242  62  42   NaN  NaN  NaN   NaN\n"
          ]
        }
      ]
    },
    {
      "cell_type": "code",
      "source": [
        "import pandas as pd\n",
        "import numpy as np\n",
        "\n",
        "data = [[40,60,40,40,60,12,4,6,40],[60,30,90,40,60,40],[40,50,1240,60,40]]\n",
        "\n",
        "\n",
        "df = pd.DataFrame(data)\n",
        "\n",
        "\n",
        "def adder(a):\n",
        "   return a**2\n",
        "\n",
        "print(df)\n",
        "\n",
        "df1 = df.apply(adder,axis=0)    #column wise\n",
        "\n",
        "print(df1)"
      ],
      "metadata": {
        "colab": {
          "base_uri": "https://localhost:8080/"
        },
        "outputId": "e888da06-6266-45a4-b7c7-f9eec582489a",
        "id": "1IhMu9-72HNx"
      },
      "execution_count": null,
      "outputs": [
        {
          "output_type": "stream",
          "name": "stdout",
          "text": [
            "    0   1     2   3   4     5    6    7     8\n",
            "0  40  60    40  40  60  12.0  4.0  6.0  40.0\n",
            "1  60  30    90  40  60  40.0  NaN  NaN   NaN\n",
            "2  40  50  1240  60  40   NaN  NaN  NaN   NaN\n",
            "      0     1        2     3     4       5     6     7       8\n",
            "0  1600  3600     1600  1600  3600   144.0  16.0  36.0  1600.0\n",
            "1  3600   900     8100  1600  3600  1600.0   NaN   NaN     NaN\n",
            "2  1600  2500  1537600  3600  1600     NaN   NaN   NaN     NaN\n"
          ]
        }
      ]
    },
    {
      "cell_type": "code",
      "source": [
        "import pandas as pd\n",
        "import numpy as np\n",
        "\n",
        "data = [[40,60,40,40,60,12,4,6,40],[60,30,90,40,60,40],[40,50,1240,60,40]]\n",
        "\n",
        "\n",
        "df = pd.DataFrame(data)\n",
        "\n",
        "\n",
        "def adder(a):\n",
        "   return a**2\n",
        "\n",
        "print(df)\n",
        "\n",
        "df1 = df.apply(adder,axis=1)    #row wise\n",
        "\n",
        "print(df1)"
      ],
      "metadata": {
        "colab": {
          "base_uri": "https://localhost:8080/"
        },
        "outputId": "2b617a56-e879-4957-f489-06b74c8e49b3",
        "id": "NMUNPKTO2ia4"
      },
      "execution_count": null,
      "outputs": [
        {
          "output_type": "stream",
          "name": "stdout",
          "text": [
            "    0   1     2   3   4     5    6    7     8\n",
            "0  40  60    40  40  60  12.0  4.0  6.0  40.0\n",
            "1  60  30    90  40  60  40.0  NaN  NaN   NaN\n",
            "2  40  50  1240  60  40   NaN  NaN  NaN   NaN\n",
            "        0       1          2       3       4       5     6     7       8\n",
            "0  1600.0  3600.0     1600.0  1600.0  3600.0   144.0  16.0  36.0  1600.0\n",
            "1  3600.0   900.0     8100.0  1600.0  3600.0  1600.0   NaN   NaN     NaN\n",
            "2  1600.0  2500.0  1537600.0  3600.0  1600.0     NaN   NaN   NaN     NaN\n"
          ]
        }
      ]
    },
    {
      "cell_type": "code",
      "source": [
        "import pandas as pd\n",
        "import numpy as np\n",
        "\n",
        "data = [[40,60,40,40,60,12,4,6,40],[60,30,90,40,60,40],[40,50,1240,60,40]]\n",
        "\n",
        "\n",
        "df = pd.DataFrame(data)\n",
        "\n",
        "\n",
        "def adder(a):\n",
        "   return a**2\n",
        "\n",
        "print(df)\n",
        "\n",
        "df1 = df.apply(np.mean,axis=0)    #column wise\n",
        "\n",
        "print(df1)"
      ],
      "metadata": {
        "colab": {
          "base_uri": "https://localhost:8080/"
        },
        "outputId": "3273b2c6-d57a-4986-a426-1bb01b7a97fe",
        "id": "u--9NIOY25SZ"
      },
      "execution_count": null,
      "outputs": [
        {
          "output_type": "stream",
          "name": "stdout",
          "text": [
            "    0   1     2   3   4     5    6    7     8\n",
            "0  40  60    40  40  60  12.0  4.0  6.0  40.0\n",
            "1  60  30    90  40  60  40.0  NaN  NaN   NaN\n",
            "2  40  50  1240  60  40   NaN  NaN  NaN   NaN\n",
            "0     46.666667\n",
            "1     46.666667\n",
            "2    456.666667\n",
            "3     46.666667\n",
            "4     53.333333\n",
            "5     26.000000\n",
            "6      4.000000\n",
            "7      6.000000\n",
            "8     40.000000\n",
            "dtype: float64\n"
          ]
        }
      ]
    },
    {
      "cell_type": "code",
      "source": [
        "import pandas as pd\n",
        "import numpy as np\n",
        "\n",
        "data = [[40,60,40,40,60,12,4,6,40],[60,30,90,40,60,40],[40,50,1240,60,40]]\n",
        "\n",
        "\n",
        "df = pd.DataFrame(data)\n",
        "\n",
        "\n",
        "def adder(a):\n",
        "   return a**2\n",
        "\n",
        "print(df)\n",
        "\n",
        "df1 = df.apply(np.mean,axis=1)    #row wise\n",
        "\n",
        "print(df1)"
      ],
      "metadata": {
        "colab": {
          "base_uri": "https://localhost:8080/"
        },
        "outputId": "5749b0c6-dada-4cf8-b90a-ea4b6b99d69c",
        "id": "v_dLE_0O3D9F"
      },
      "execution_count": null,
      "outputs": [
        {
          "output_type": "stream",
          "name": "stdout",
          "text": [
            "    0   1     2   3   4     5    6    7     8\n",
            "0  40  60    40  40  60  12.0  4.0  6.0  40.0\n",
            "1  60  30    90  40  60  40.0  NaN  NaN   NaN\n",
            "2  40  50  1240  60  40   NaN  NaN  NaN   NaN\n",
            "0     33.555556\n",
            "1     53.333333\n",
            "2    286.000000\n",
            "dtype: float64\n"
          ]
        }
      ]
    },
    {
      "cell_type": "code",
      "source": [
        "import pandas as pd\n",
        "import numpy as np\n",
        "\n",
        "data = [[40,60,40,40,60,12,4,6,40],[60,30,90,40,60,40],[40,50,1240,60,40]]\n",
        "\n",
        "\n",
        "df = pd.DataFrame(data)\n",
        "\n",
        "\n",
        "def adder(a):\n",
        "   return a+b\n",
        "\n",
        "print(df)\n",
        "\n",
        "df1 = df.apply(np.sum)\n",
        "\n",
        "print(df1)"
      ],
      "metadata": {
        "colab": {
          "base_uri": "https://localhost:8080/"
        },
        "outputId": "11357208-1616-49dd-9f5d-24d82a40a8de",
        "id": "3MfaafT_4GFW"
      },
      "execution_count": null,
      "outputs": [
        {
          "output_type": "stream",
          "name": "stdout",
          "text": [
            "    0   1     2   3   4     5    6    7     8\n",
            "0  40  60    40  40  60  12.0  4.0  6.0  40.0\n",
            "1  60  30    90  40  60  40.0  NaN  NaN   NaN\n",
            "2  40  50  1240  60  40   NaN  NaN  NaN   NaN\n",
            "0     140.0\n",
            "1     140.0\n",
            "2    1370.0\n",
            "3     140.0\n",
            "4     160.0\n",
            "5      52.0\n",
            "6       4.0\n",
            "7       6.0\n",
            "8      40.0\n",
            "dtype: float64\n"
          ]
        }
      ]
    },
    {
      "cell_type": "code",
      "source": [
        "import pandas as pd\n",
        "import numpy as np\n",
        "\n",
        "data = [[40,60,40,40,60,12,4,6,40],[60,30,90,40,60,40],[40,50,1240,60,40]]\n",
        "\n",
        "\n",
        "df = pd.DataFrame(data)\n",
        "\n",
        "\n",
        "def adder(a):\n",
        "   return a.sum()\n",
        "\n",
        "print(df)\n",
        "\n",
        "df1 = df.apply(adder,axis=0)\n",
        "\n",
        "print(df1)"
      ],
      "metadata": {
        "colab": {
          "base_uri": "https://localhost:8080/"
        },
        "outputId": "5ccaa8b2-ef6d-47e7-914b-bfd4ff7065a4",
        "id": "VMQ3wC-S4eS-"
      },
      "execution_count": null,
      "outputs": [
        {
          "output_type": "stream",
          "name": "stdout",
          "text": [
            "    0   1     2   3   4     5    6    7     8\n",
            "0  40  60    40  40  60  12.0  4.0  6.0  40.0\n",
            "1  60  30    90  40  60  40.0  NaN  NaN   NaN\n",
            "2  40  50  1240  60  40   NaN  NaN  NaN   NaN\n",
            "0     140.0\n",
            "1     140.0\n",
            "2    1370.0\n",
            "3     140.0\n",
            "4     160.0\n",
            "5      52.0\n",
            "6       4.0\n",
            "7       6.0\n",
            "8      40.0\n",
            "dtype: float64\n"
          ]
        }
      ]
    },
    {
      "cell_type": "code",
      "source": [
        "import pandas as pd\n",
        "import numpy as np\n",
        "\n",
        "data = [[40,60,40,40,60,12,4,6,40],[60,30,90,40,60,40],[40,50,1240,60,40]]\n",
        "\n",
        "\n",
        "df = pd.DataFrame(data)\n",
        "\n",
        "\n",
        "def adder(a):\n",
        "   return a.sum()\n",
        "\n",
        "print(df)\n",
        "\n",
        "df1 = df.apply(adder,axis=1)\n",
        "\n",
        "print(df1)"
      ],
      "metadata": {
        "colab": {
          "base_uri": "https://localhost:8080/"
        },
        "outputId": "47eb5f06-fd6e-480e-cfcd-e4cb1193e359",
        "id": "ovWPNrLJ41if"
      },
      "execution_count": null,
      "outputs": [
        {
          "output_type": "stream",
          "name": "stdout",
          "text": [
            "    0   1     2   3   4     5    6    7     8\n",
            "0  40  60    40  40  60  12.0  4.0  6.0  40.0\n",
            "1  60  30    90  40  60  40.0  NaN  NaN   NaN\n",
            "2  40  50  1240  60  40   NaN  NaN  NaN   NaN\n",
            "0     302.0\n",
            "1     320.0\n",
            "2    1430.0\n",
            "dtype: float64\n"
          ]
        }
      ]
    },
    {
      "cell_type": "code",
      "source": [
        "import pandas as pd\n",
        "import numpy as np\n",
        "\n",
        "data = [[40,60,40,40,60,12,4,6,40],[60,30,90,40,60,40],[40,50,1240,60,40]]\n",
        "\n",
        "\n",
        "df = pd.DataFrame(data)\n",
        "\n",
        "\n",
        "def adder(a):\n",
        "   return a.sum()\n",
        "\n",
        "print(df)\n",
        "\n",
        "df1 = df.apply(lambda x : x.max() - x.min() , axis = 0)\n",
        "\n",
        "print(df1)"
      ],
      "metadata": {
        "colab": {
          "base_uri": "https://localhost:8080/"
        },
        "outputId": "35ff7171-569c-4fa9-87be-721f1bde88d0",
        "id": "BrajFQvR534S"
      },
      "execution_count": null,
      "outputs": [
        {
          "output_type": "stream",
          "name": "stdout",
          "text": [
            "    0   1     2   3   4     5    6    7     8\n",
            "0  40  60    40  40  60  12.0  4.0  6.0  40.0\n",
            "1  60  30    90  40  60  40.0  NaN  NaN   NaN\n",
            "2  40  50  1240  60  40   NaN  NaN  NaN   NaN\n",
            "0      20.0\n",
            "1      30.0\n",
            "2    1200.0\n",
            "3      20.0\n",
            "4      20.0\n",
            "5      28.0\n",
            "6       0.0\n",
            "7       0.0\n",
            "8       0.0\n",
            "dtype: float64\n"
          ]
        }
      ]
    },
    {
      "cell_type": "code",
      "source": [
        "import pandas as pd\n",
        "import numpy as np\n",
        "\n",
        "data = [[40,60,40,40,60,12,4,6,40],[60,30,90,40,60,40],[40,50,1240,60,40]]\n",
        "\n",
        "\n",
        "df = pd.DataFrame(data)\n",
        "\n",
        "\n",
        "def adder(a):\n",
        "   return a.sum()\n",
        "\n",
        "print(df)\n",
        "\n",
        "df1 = df.apply(lambda x : x.max() - x.min() , axis = 1)\n",
        "\n",
        "print(df1)"
      ],
      "metadata": {
        "colab": {
          "base_uri": "https://localhost:8080/"
        },
        "outputId": "a03ed7ba-1283-4092-8c89-0fa4e4a1a242",
        "id": "Jju6r-eP6LpZ"
      },
      "execution_count": null,
      "outputs": [
        {
          "output_type": "stream",
          "name": "stdout",
          "text": [
            "    0   1     2   3   4     5    6    7     8\n",
            "0  40  60    40  40  60  12.0  4.0  6.0  40.0\n",
            "1  60  30    90  40  60  40.0  NaN  NaN   NaN\n",
            "2  40  50  1240  60  40   NaN  NaN  NaN   NaN\n",
            "0      56.0\n",
            "1      60.0\n",
            "2    1200.0\n",
            "dtype: float64\n"
          ]
        }
      ]
    },
    {
      "cell_type": "code",
      "source": [],
      "metadata": {
        "id": "huO04Efw4pGD"
      },
      "execution_count": null,
      "outputs": []
    }
  ]
}